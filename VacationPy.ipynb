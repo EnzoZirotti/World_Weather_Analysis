{
 "cells": [
  {
   "cell_type": "code",
   "execution_count": 1,
   "id": "e5b72631",
   "metadata": {},
   "outputs": [],
   "source": [
    "# Import the dependencies.\n",
    "import pandas as pd\n",
    "import gmaps\n",
    "import requests\n",
    "# Import the API key.\n",
    "from config import g_key"
   ]
  },
  {
   "cell_type": "code",
   "execution_count": 2,
   "id": "a6c3ec84",
   "metadata": {},
   "outputs": [
    {
     "data": {
      "text/html": [
       "<div>\n",
       "<style scoped>\n",
       "    .dataframe tbody tr th:only-of-type {\n",
       "        vertical-align: middle;\n",
       "    }\n",
       "\n",
       "    .dataframe tbody tr th {\n",
       "        vertical-align: top;\n",
       "    }\n",
       "\n",
       "    .dataframe thead th {\n",
       "        text-align: right;\n",
       "    }\n",
       "</style>\n",
       "<table border=\"1\" class=\"dataframe\">\n",
       "  <thead>\n",
       "    <tr style=\"text-align: right;\">\n",
       "      <th></th>\n",
       "      <th>City_ID</th>\n",
       "      <th>City</th>\n",
       "      <th>Lat</th>\n",
       "      <th>Lng</th>\n",
       "      <th>Max Temp</th>\n",
       "      <th>Humidity</th>\n",
       "      <th>Cloudiness</th>\n",
       "      <th>Wind Speed</th>\n",
       "      <th>Country</th>\n",
       "      <th>Date</th>\n",
       "    </tr>\n",
       "  </thead>\n",
       "  <tbody>\n",
       "    <tr>\n",
       "      <th>0</th>\n",
       "      <td>0</td>\n",
       "      <td>New Norfolk</td>\n",
       "      <td>-42.7826</td>\n",
       "      <td>147.0587</td>\n",
       "      <td>64.92</td>\n",
       "      <td>63</td>\n",
       "      <td>97</td>\n",
       "      <td>3.00</td>\n",
       "      <td>AU</td>\n",
       "      <td>2022-01-28 22:09:12</td>\n",
       "    </tr>\n",
       "    <tr>\n",
       "      <th>1</th>\n",
       "      <td>1</td>\n",
       "      <td>Busselton</td>\n",
       "      <td>-33.6500</td>\n",
       "      <td>115.3333</td>\n",
       "      <td>65.05</td>\n",
       "      <td>64</td>\n",
       "      <td>11</td>\n",
       "      <td>7.70</td>\n",
       "      <td>AU</td>\n",
       "      <td>2022-01-28 22:12:14</td>\n",
       "    </tr>\n",
       "    <tr>\n",
       "      <th>2</th>\n",
       "      <td>2</td>\n",
       "      <td>Puerto Ayora</td>\n",
       "      <td>-0.7393</td>\n",
       "      <td>-90.3518</td>\n",
       "      <td>80.56</td>\n",
       "      <td>76</td>\n",
       "      <td>66</td>\n",
       "      <td>9.66</td>\n",
       "      <td>EC</td>\n",
       "      <td>2022-01-28 22:14:12</td>\n",
       "    </tr>\n",
       "    <tr>\n",
       "      <th>3</th>\n",
       "      <td>3</td>\n",
       "      <td>Yellowknife</td>\n",
       "      <td>62.4560</td>\n",
       "      <td>-114.3525</td>\n",
       "      <td>0.41</td>\n",
       "      <td>96</td>\n",
       "      <td>100</td>\n",
       "      <td>7.85</td>\n",
       "      <td>CA</td>\n",
       "      <td>2022-01-28 22:14:12</td>\n",
       "    </tr>\n",
       "    <tr>\n",
       "      <th>4</th>\n",
       "      <td>4</td>\n",
       "      <td>Punta Arenas</td>\n",
       "      <td>-53.1500</td>\n",
       "      <td>-70.9167</td>\n",
       "      <td>71.71</td>\n",
       "      <td>20</td>\n",
       "      <td>0</td>\n",
       "      <td>13.80</td>\n",
       "      <td>CL</td>\n",
       "      <td>2022-01-28 22:13:51</td>\n",
       "    </tr>\n",
       "  </tbody>\n",
       "</table>\n",
       "</div>"
      ],
      "text/plain": [
       "   City_ID          City      Lat       Lng  Max Temp  Humidity  Cloudiness  \\\n",
       "0        0   New Norfolk -42.7826  147.0587     64.92        63          97   \n",
       "1        1     Busselton -33.6500  115.3333     65.05        64          11   \n",
       "2        2  Puerto Ayora  -0.7393  -90.3518     80.56        76          66   \n",
       "3        3   Yellowknife  62.4560 -114.3525      0.41        96         100   \n",
       "4        4  Punta Arenas -53.1500  -70.9167     71.71        20           0   \n",
       "\n",
       "   Wind Speed Country                 Date  \n",
       "0        3.00      AU  2022-01-28 22:09:12  \n",
       "1        7.70      AU  2022-01-28 22:12:14  \n",
       "2        9.66      EC  2022-01-28 22:14:12  \n",
       "3        7.85      CA  2022-01-28 22:14:12  \n",
       "4       13.80      CL  2022-01-28 22:13:51  "
      ]
     },
     "execution_count": 2,
     "metadata": {},
     "output_type": "execute_result"
    }
   ],
   "source": [
    "# Store the CSV you saved created in part one into a DataFrame.\n",
    "city_data_df = pd.read_csv(\"weather_data/cities.csv\")\n",
    "city_data_df.head()"
   ]
  },
  {
   "cell_type": "code",
   "execution_count": 3,
   "id": "47f04b09",
   "metadata": {},
   "outputs": [],
   "source": [
    "# Configure gmaps to use your Google API key.\n",
    "gmaps.configure(api_key=g_key)"
   ]
  },
  {
   "cell_type": "code",
   "execution_count": 4,
   "id": "aa761cc9",
   "metadata": {},
   "outputs": [],
   "source": [
    "# Get the maximum temperature.\n",
    "max_temp = city_data_df[\"Max Temp\"]\n",
    "temps = []\n",
    "for temp in max_temp:\n",
    "    temps.append(max(temp, 0))"
   ]
  },
  {
   "cell_type": "code",
   "execution_count": 5,
   "id": "dced1cee",
   "metadata": {},
   "outputs": [
    {
     "data": {
      "application/vnd.jupyter.widget-view+json": {
       "model_id": "5b1159a9fc4b4f52851c4ee6fa5537bd",
       "version_major": 2,
       "version_minor": 0
      },
      "text/plain": [
       "Figure(layout=FigureLayout(height='420px'))"
      ]
     },
     "metadata": {},
     "output_type": "display_data"
    }
   ],
   "source": [
    "# Heatmap of temperature\n",
    "# Get the latitude and longitude.\n",
    "locations = city_data_df[[\"Lat\", \"Lng\"]]\n",
    "# Get the maximum temperature.\n",
    "max_temp = city_data_df[\"Max Temp\"]\n",
    "# Assign the figure variable.\n",
    "fig = gmaps.figure(center=(30.0, 31.0), zoom_level=1.5)\n",
    "# Assign the heatmap variable.\n",
    "heat_layer = gmaps.heatmap_layer(locations, weights=[max(temp, 0) for temp in max_temp], dissipating=False, max_intensity=300, point_radius=4)\n",
    "# Add the heatmap layer.\n",
    "fig.add_layer(heat_layer)\n",
    "# Call the figure to plot the data.\n",
    "fig \n"
   ]
  },
  {
   "cell_type": "code",
   "execution_count": 6,
   "id": "dfc9f98a",
   "metadata": {},
   "outputs": [
    {
     "data": {
      "application/vnd.jupyter.widget-view+json": {
       "model_id": "61661e43ceff43b0849168543950df56",
       "version_major": 2,
       "version_minor": 0
      },
      "text/plain": [
       "Figure(layout=FigureLayout(height='420px'))"
      ]
     },
     "metadata": {},
     "output_type": "display_data"
    }
   ],
   "source": [
    "# Heatmap of percent humidity\n",
    "locations = city_data_df[[\"Lat\", \"Lng\"]]\n",
    "humidity = city_data_df[\"Humidity\"]\n",
    "fig = gmaps.figure(center=(30.0, 31.0), zoom_level=1.5)\n",
    "heat_layer = gmaps.heatmap_layer(locations, weights=humidity, dissipating=False, max_intensity=300, point_radius=4)\n",
    "\n",
    "fig.add_layer(heat_layer)\n",
    "# Call the figure to plot the data.\n",
    "fig"
   ]
  },
  {
   "cell_type": "code",
   "execution_count": 7,
   "id": "559fdde9",
   "metadata": {},
   "outputs": [
    {
     "data": {
      "application/vnd.jupyter.widget-view+json": {
       "model_id": "ec7e4f20f457448cac6350091e49a641",
       "version_major": 2,
       "version_minor": 0
      },
      "text/plain": [
       "Figure(layout=FigureLayout(height='420px'))"
      ]
     },
     "metadata": {},
     "output_type": "display_data"
    }
   ],
   "source": [
    "# Heatmap of percent cloudiness\n",
    "locations = city_data_df[[\"Lat\", \"Lng\"]]\n",
    "clouds = city_data_df[\"Cloudiness\"]\n",
    "fig = gmaps.figure(center=(30.0, 31.0), zoom_level=1.5)\n",
    "heat_layer = gmaps.heatmap_layer(locations, weights=clouds, dissipating=False, max_intensity=300, point_radius=4)\n",
    "\n",
    "fig.add_layer(heat_layer)\n",
    "# Call the figure to plot the data.\n",
    "fig"
   ]
  },
  {
   "cell_type": "code",
   "execution_count": 8,
   "id": "00cc3df2",
   "metadata": {},
   "outputs": [
    {
     "data": {
      "application/vnd.jupyter.widget-view+json": {
       "model_id": "cbf9d9c6343f402797283b952bd6ec1a",
       "version_major": 2,
       "version_minor": 0
      },
      "text/plain": [
       "Figure(layout=FigureLayout(height='420px'))"
      ]
     },
     "metadata": {},
     "output_type": "display_data"
    }
   ],
   "source": [
    "# Heatmap of percent cloudiness\n",
    "locations = city_data_df[[\"Lat\", \"Lng\"]]\n",
    "wind = city_data_df[\"Wind Speed\"]\n",
    "fig = gmaps.figure(center=(30.0, 31.0), zoom_level=1.5)\n",
    "heat_layer = gmaps.heatmap_layer(locations, weights=wind, dissipating=False, max_intensity=300, point_radius=4)\n",
    "\n",
    "fig.add_layer(heat_layer)\n",
    "# Call the figure to plot the data.\n",
    "fig"
   ]
  },
  {
   "cell_type": "code",
   "execution_count": 9,
   "id": "618d9b75",
   "metadata": {},
   "outputs": [
    {
     "name": "stdout",
     "output_type": "stream",
     "text": [
      "What is the minimum temperature you would like for your trip? 75\n",
      "What is the maximum temperature you would like for your trip? 90\n"
     ]
    }
   ],
   "source": [
    "# Ask the customer to add a minimum and maximum temperature value.\n",
    "min_temp = float(input(\"What is the minimum temperature you would like for your trip? \"))\n",
    "max_temp = float(input(\"What is the maximum temperature you would like for your trip? \"))"
   ]
  },
  {
   "cell_type": "code",
   "execution_count": 10,
   "id": "7b7d46c0",
   "metadata": {},
   "outputs": [
    {
     "data": {
      "text/html": [
       "<div>\n",
       "<style scoped>\n",
       "    .dataframe tbody tr th:only-of-type {\n",
       "        vertical-align: middle;\n",
       "    }\n",
       "\n",
       "    .dataframe tbody tr th {\n",
       "        vertical-align: top;\n",
       "    }\n",
       "\n",
       "    .dataframe thead th {\n",
       "        text-align: right;\n",
       "    }\n",
       "</style>\n",
       "<table border=\"1\" class=\"dataframe\">\n",
       "  <thead>\n",
       "    <tr style=\"text-align: right;\">\n",
       "      <th></th>\n",
       "      <th>City_ID</th>\n",
       "      <th>City</th>\n",
       "      <th>Lat</th>\n",
       "      <th>Lng</th>\n",
       "      <th>Max Temp</th>\n",
       "      <th>Humidity</th>\n",
       "      <th>Cloudiness</th>\n",
       "      <th>Wind Speed</th>\n",
       "      <th>Country</th>\n",
       "      <th>Date</th>\n",
       "    </tr>\n",
       "  </thead>\n",
       "  <tbody>\n",
       "    <tr>\n",
       "      <th>2</th>\n",
       "      <td>2</td>\n",
       "      <td>Puerto Ayora</td>\n",
       "      <td>-0.7393</td>\n",
       "      <td>-90.3518</td>\n",
       "      <td>80.56</td>\n",
       "      <td>76</td>\n",
       "      <td>66</td>\n",
       "      <td>9.66</td>\n",
       "      <td>EC</td>\n",
       "      <td>2022-01-28 22:14:12</td>\n",
       "    </tr>\n",
       "    <tr>\n",
       "      <th>9</th>\n",
       "      <td>9</td>\n",
       "      <td>Mitu</td>\n",
       "      <td>1.1983</td>\n",
       "      <td>-70.1733</td>\n",
       "      <td>81.97</td>\n",
       "      <td>55</td>\n",
       "      <td>72</td>\n",
       "      <td>2.33</td>\n",
       "      <td>CO</td>\n",
       "      <td>2022-01-28 22:10:01</td>\n",
       "    </tr>\n",
       "    <tr>\n",
       "      <th>10</th>\n",
       "      <td>10</td>\n",
       "      <td>Rikitea</td>\n",
       "      <td>-23.1203</td>\n",
       "      <td>-134.9692</td>\n",
       "      <td>78.06</td>\n",
       "      <td>70</td>\n",
       "      <td>100</td>\n",
       "      <td>15.64</td>\n",
       "      <td>PF</td>\n",
       "      <td>2022-01-28 22:14:14</td>\n",
       "    </tr>\n",
       "    <tr>\n",
       "      <th>12</th>\n",
       "      <td>12</td>\n",
       "      <td>Atuona</td>\n",
       "      <td>-9.8000</td>\n",
       "      <td>-139.0333</td>\n",
       "      <td>77.79</td>\n",
       "      <td>71</td>\n",
       "      <td>11</td>\n",
       "      <td>15.17</td>\n",
       "      <td>PF</td>\n",
       "      <td>2022-01-28 22:10:26</td>\n",
       "    </tr>\n",
       "    <tr>\n",
       "      <th>15</th>\n",
       "      <td>15</td>\n",
       "      <td>Butaritari</td>\n",
       "      <td>3.0707</td>\n",
       "      <td>172.7902</td>\n",
       "      <td>81.93</td>\n",
       "      <td>79</td>\n",
       "      <td>64</td>\n",
       "      <td>17.74</td>\n",
       "      <td>KI</td>\n",
       "      <td>2022-01-28 22:10:30</td>\n",
       "    </tr>\n",
       "    <tr>\n",
       "      <th>18</th>\n",
       "      <td>18</td>\n",
       "      <td>Yaan</td>\n",
       "      <td>7.3833</td>\n",
       "      <td>8.5667</td>\n",
       "      <td>82.36</td>\n",
       "      <td>18</td>\n",
       "      <td>99</td>\n",
       "      <td>7.78</td>\n",
       "      <td>NG</td>\n",
       "      <td>2022-01-28 22:14:17</td>\n",
       "    </tr>\n",
       "    <tr>\n",
       "      <th>20</th>\n",
       "      <td>20</td>\n",
       "      <td>La Asuncion</td>\n",
       "      <td>11.0333</td>\n",
       "      <td>-63.8628</td>\n",
       "      <td>77.16</td>\n",
       "      <td>78</td>\n",
       "      <td>1</td>\n",
       "      <td>13.69</td>\n",
       "      <td>VE</td>\n",
       "      <td>2022-01-28 22:14:17</td>\n",
       "    </tr>\n",
       "    <tr>\n",
       "      <th>22</th>\n",
       "      <td>22</td>\n",
       "      <td>Hithadhoo</td>\n",
       "      <td>-0.6000</td>\n",
       "      <td>73.0833</td>\n",
       "      <td>80.31</td>\n",
       "      <td>63</td>\n",
       "      <td>50</td>\n",
       "      <td>5.99</td>\n",
       "      <td>MV</td>\n",
       "      <td>2022-01-28 22:14:18</td>\n",
       "    </tr>\n",
       "    <tr>\n",
       "      <th>26</th>\n",
       "      <td>26</td>\n",
       "      <td>Mahebourg</td>\n",
       "      <td>-20.4081</td>\n",
       "      <td>57.7000</td>\n",
       "      <td>77.25</td>\n",
       "      <td>82</td>\n",
       "      <td>20</td>\n",
       "      <td>9.44</td>\n",
       "      <td>MU</td>\n",
       "      <td>2022-01-28 22:13:14</td>\n",
       "    </tr>\n",
       "    <tr>\n",
       "      <th>28</th>\n",
       "      <td>28</td>\n",
       "      <td>Avarua</td>\n",
       "      <td>-21.2078</td>\n",
       "      <td>-159.7750</td>\n",
       "      <td>82.45</td>\n",
       "      <td>74</td>\n",
       "      <td>20</td>\n",
       "      <td>12.66</td>\n",
       "      <td>CK</td>\n",
       "      <td>2022-01-28 22:11:06</td>\n",
       "    </tr>\n",
       "  </tbody>\n",
       "</table>\n",
       "</div>"
      ],
      "text/plain": [
       "    City_ID          City      Lat       Lng  Max Temp  Humidity  Cloudiness  \\\n",
       "2         2  Puerto Ayora  -0.7393  -90.3518     80.56        76          66   \n",
       "9         9          Mitu   1.1983  -70.1733     81.97        55          72   \n",
       "10       10       Rikitea -23.1203 -134.9692     78.06        70         100   \n",
       "12       12        Atuona  -9.8000 -139.0333     77.79        71          11   \n",
       "15       15    Butaritari   3.0707  172.7902     81.93        79          64   \n",
       "18       18          Yaan   7.3833    8.5667     82.36        18          99   \n",
       "20       20   La Asuncion  11.0333  -63.8628     77.16        78           1   \n",
       "22       22     Hithadhoo  -0.6000   73.0833     80.31        63          50   \n",
       "26       26     Mahebourg -20.4081   57.7000     77.25        82          20   \n",
       "28       28        Avarua -21.2078 -159.7750     82.45        74          20   \n",
       "\n",
       "    Wind Speed Country                 Date  \n",
       "2         9.66      EC  2022-01-28 22:14:12  \n",
       "9         2.33      CO  2022-01-28 22:10:01  \n",
       "10       15.64      PF  2022-01-28 22:14:14  \n",
       "12       15.17      PF  2022-01-28 22:10:26  \n",
       "15       17.74      KI  2022-01-28 22:10:30  \n",
       "18        7.78      NG  2022-01-28 22:14:17  \n",
       "20       13.69      VE  2022-01-28 22:14:17  \n",
       "22        5.99      MV  2022-01-28 22:14:18  \n",
       "26        9.44      MU  2022-01-28 22:13:14  \n",
       "28       12.66      CK  2022-01-28 22:11:06  "
      ]
     },
     "execution_count": 10,
     "metadata": {},
     "output_type": "execute_result"
    }
   ],
   "source": [
    "# Filter the dataset to find the cities that fit the criteria.\n",
    "preferred_cities_df = city_data_df.loc[(city_data_df[\"Max Temp\"] <= max_temp) & \\\n",
    "                                       (city_data_df[\"Max Temp\"] >= min_temp)]\n",
    "preferred_cities_df.head(10)"
   ]
  },
  {
   "cell_type": "code",
   "execution_count": 11,
   "id": "0469ff6d",
   "metadata": {},
   "outputs": [
    {
     "data": {
      "text/plain": [
       "City_ID       142\n",
       "City          142\n",
       "Lat           142\n",
       "Lng           142\n",
       "Max Temp      142\n",
       "Humidity      142\n",
       "Cloudiness    142\n",
       "Wind Speed    142\n",
       "Country       142\n",
       "Date          142\n",
       "dtype: int64"
      ]
     },
     "execution_count": 11,
     "metadata": {},
     "output_type": "execute_result"
    }
   ],
   "source": [
    "preferred_cities_df.count()"
   ]
  },
  {
   "cell_type": "code",
   "execution_count": 12,
   "id": "a49fd822",
   "metadata": {},
   "outputs": [
    {
     "data": {
      "text/html": [
       "<div>\n",
       "<style scoped>\n",
       "    .dataframe tbody tr th:only-of-type {\n",
       "        vertical-align: middle;\n",
       "    }\n",
       "\n",
       "    .dataframe tbody tr th {\n",
       "        vertical-align: top;\n",
       "    }\n",
       "\n",
       "    .dataframe thead th {\n",
       "        text-align: right;\n",
       "    }\n",
       "</style>\n",
       "<table border=\"1\" class=\"dataframe\">\n",
       "  <thead>\n",
       "    <tr style=\"text-align: right;\">\n",
       "      <th></th>\n",
       "      <th>City</th>\n",
       "      <th>Country</th>\n",
       "      <th>Max Temp</th>\n",
       "      <th>Lat</th>\n",
       "      <th>Lng</th>\n",
       "      <th>Hotel Name</th>\n",
       "    </tr>\n",
       "  </thead>\n",
       "  <tbody>\n",
       "    <tr>\n",
       "      <th>2</th>\n",
       "      <td>Puerto Ayora</td>\n",
       "      <td>EC</td>\n",
       "      <td>80.56</td>\n",
       "      <td>-0.7393</td>\n",
       "      <td>-90.3518</td>\n",
       "      <td></td>\n",
       "    </tr>\n",
       "    <tr>\n",
       "      <th>9</th>\n",
       "      <td>Mitu</td>\n",
       "      <td>CO</td>\n",
       "      <td>81.97</td>\n",
       "      <td>1.1983</td>\n",
       "      <td>-70.1733</td>\n",
       "      <td></td>\n",
       "    </tr>\n",
       "    <tr>\n",
       "      <th>10</th>\n",
       "      <td>Rikitea</td>\n",
       "      <td>PF</td>\n",
       "      <td>78.06</td>\n",
       "      <td>-23.1203</td>\n",
       "      <td>-134.9692</td>\n",
       "      <td></td>\n",
       "    </tr>\n",
       "    <tr>\n",
       "      <th>12</th>\n",
       "      <td>Atuona</td>\n",
       "      <td>PF</td>\n",
       "      <td>77.79</td>\n",
       "      <td>-9.8000</td>\n",
       "      <td>-139.0333</td>\n",
       "      <td></td>\n",
       "    </tr>\n",
       "    <tr>\n",
       "      <th>15</th>\n",
       "      <td>Butaritari</td>\n",
       "      <td>KI</td>\n",
       "      <td>81.93</td>\n",
       "      <td>3.0707</td>\n",
       "      <td>172.7902</td>\n",
       "      <td></td>\n",
       "    </tr>\n",
       "    <tr>\n",
       "      <th>18</th>\n",
       "      <td>Yaan</td>\n",
       "      <td>NG</td>\n",
       "      <td>82.36</td>\n",
       "      <td>7.3833</td>\n",
       "      <td>8.5667</td>\n",
       "      <td></td>\n",
       "    </tr>\n",
       "    <tr>\n",
       "      <th>20</th>\n",
       "      <td>La Asuncion</td>\n",
       "      <td>VE</td>\n",
       "      <td>77.16</td>\n",
       "      <td>11.0333</td>\n",
       "      <td>-63.8628</td>\n",
       "      <td></td>\n",
       "    </tr>\n",
       "    <tr>\n",
       "      <th>22</th>\n",
       "      <td>Hithadhoo</td>\n",
       "      <td>MV</td>\n",
       "      <td>80.31</td>\n",
       "      <td>-0.6000</td>\n",
       "      <td>73.0833</td>\n",
       "      <td></td>\n",
       "    </tr>\n",
       "    <tr>\n",
       "      <th>26</th>\n",
       "      <td>Mahebourg</td>\n",
       "      <td>MU</td>\n",
       "      <td>77.25</td>\n",
       "      <td>-20.4081</td>\n",
       "      <td>57.7000</td>\n",
       "      <td></td>\n",
       "    </tr>\n",
       "    <tr>\n",
       "      <th>28</th>\n",
       "      <td>Avarua</td>\n",
       "      <td>CK</td>\n",
       "      <td>82.45</td>\n",
       "      <td>-21.2078</td>\n",
       "      <td>-159.7750</td>\n",
       "      <td></td>\n",
       "    </tr>\n",
       "  </tbody>\n",
       "</table>\n",
       "</div>"
      ],
      "text/plain": [
       "            City Country  Max Temp      Lat       Lng Hotel Name\n",
       "2   Puerto Ayora      EC     80.56  -0.7393  -90.3518           \n",
       "9           Mitu      CO     81.97   1.1983  -70.1733           \n",
       "10       Rikitea      PF     78.06 -23.1203 -134.9692           \n",
       "12        Atuona      PF     77.79  -9.8000 -139.0333           \n",
       "15    Butaritari      KI     81.93   3.0707  172.7902           \n",
       "18          Yaan      NG     82.36   7.3833    8.5667           \n",
       "20   La Asuncion      VE     77.16  11.0333  -63.8628           \n",
       "22     Hithadhoo      MV     80.31  -0.6000   73.0833           \n",
       "26     Mahebourg      MU     77.25 -20.4081   57.7000           \n",
       "28        Avarua      CK     82.45 -21.2078 -159.7750           "
      ]
     },
     "execution_count": 12,
     "metadata": {},
     "output_type": "execute_result"
    }
   ],
   "source": [
    "# Create DataFrame called hotel_df to store hotel names along with city, country, max temp, and coordinates.\n",
    "hotel_df = preferred_cities_df[[\"City\", \"Country\", \"Max Temp\", \"Lat\", \"Lng\"]].copy()\n",
    "hotel_df[\"Hotel Name\"] = \"\"\n",
    "hotel_df.head(10)"
   ]
  },
  {
   "cell_type": "code",
   "execution_count": 13,
   "id": "1017b264",
   "metadata": {},
   "outputs": [],
   "source": [
    "# Set parameters to search for a hotel.\n",
    "params = {\n",
    "    \"radius\": 5000,\n",
    "    \"type\": \"lodging\",\n",
    "    \"key\": g_key\n",
    "}"
   ]
  },
  {
   "cell_type": "code",
   "execution_count": 14,
   "id": "b96769e1",
   "metadata": {},
   "outputs": [],
   "source": [
    "# Iterate through the DataFrame.\n",
    "for index, row in hotel_df.iterrows():\n",
    "    # Get the latitude and longitude.\n",
    "    lat = row[\"Lat\"]\n",
    "    lng = row[\"Lng\"]\n",
    "\n",
    "    # Add the latitude and longitude to location key for the params dictionary.\n",
    "    params[\"location\"] = f\"{lat},{lng}\"\n",
    "\n",
    "    # Use the search term: \"lodging\" and our latitude and longitude.\n",
    "    base_url = \"https://maps.googleapis.com/maps/api/place/nearbysearch/json\"\n",
    "    # Make request and get the JSON data from the search.\n",
    "    hotels = requests.get(base_url, params=params).json()\n",
    "# Grab the first hotel from the results and store the name.\n",
    "try:\n",
    "    hotel_df.loc[index, \"Hotel Name\"] = hotels[\"results\"][0][\"name\"]\n",
    "except (IndexError):\n",
    "    print(\"Hotel not found... skipping.\")"
   ]
  },
  {
   "cell_type": "code",
   "execution_count": 16,
   "id": "30122495",
   "metadata": {},
   "outputs": [
    {
     "data": {
      "application/vnd.jupyter.widget-view+json": {
       "model_id": "7d003d13e2174ef9b7bd321cf1d75a27",
       "version_major": 2,
       "version_minor": 0
      },
      "text/plain": [
       "Figure(layout=FigureLayout(height='420px'))"
      ]
     },
     "metadata": {},
     "output_type": "display_data"
    }
   ],
   "source": [
    "# Add a heatmap of temperature for the vacation spots and marker for each city.\n",
    "locations = hotel_df[[\"Lat\", \"Lng\"]]\n",
    "max_temp = hotel_df[\"Max Temp\"]\n",
    "fig = gmaps.figure(center=(30.0, 31.0), zoom_level=1.5)\n",
    "heat_layer = gmaps.heatmap_layer(locations, weights=max_temp,\n",
    "             dissipating=False, max_intensity=300, point_radius=4)\n",
    "marker_layer = gmaps.marker_layer(locations)\n",
    "fig.add_layer(heat_layer)\n",
    "fig.add_layer(marker_layer)\n",
    "# Call the figure to plot the data.\n",
    "fig"
   ]
  },
  {
   "cell_type": "code",
   "execution_count": 18,
   "id": "ffb5458a",
   "metadata": {},
   "outputs": [],
   "source": [
    "info_box_template = \"\"\"\n",
    "<dl>\n",
    "<dt>Hotel Name</dt><dd>{Hotel Name}</dd>\n",
    "<dt>City</dt><dd>{City}</dd>\n",
    "<dt>Country</dt><dd>{Country}</dd>\n",
    "<dt>Max Temp</dt><dd>{Max Temp} °F</dd>\n",
    "</dl>\n",
    "\"\"\""
   ]
  },
  {
   "cell_type": "code",
   "execution_count": 19,
   "id": "2b3dc39b",
   "metadata": {},
   "outputs": [],
   "source": [
    "# Store the DataFrame Row.\n",
    "hotel_info = [info_box_template.format(**row) for index, row in hotel_df.iterrows()]"
   ]
  },
  {
   "cell_type": "code",
   "execution_count": null,
   "id": "18f2def4",
   "metadata": {},
   "outputs": [],
   "source": []
  }
 ],
 "metadata": {
  "kernelspec": {
   "display_name": "PythonData",
   "language": "python",
   "name": "pythondata"
  },
  "language_info": {
   "codemirror_mode": {
    "name": "ipython",
    "version": 3
   },
   "file_extension": ".py",
   "mimetype": "text/x-python",
   "name": "python",
   "nbconvert_exporter": "python",
   "pygments_lexer": "ipython3",
   "version": "3.7.11"
  }
 },
 "nbformat": 4,
 "nbformat_minor": 5
}
