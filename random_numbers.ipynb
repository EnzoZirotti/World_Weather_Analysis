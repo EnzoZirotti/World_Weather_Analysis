{
 "cells": [
  {
   "cell_type": "code",
   "execution_count": 5,
   "id": "f2e91969",
   "metadata": {},
   "outputs": [],
   "source": [
    "import random"
   ]
  },
  {
   "cell_type": "code",
   "execution_count": 6,
   "id": "74bd6e41",
   "metadata": {},
   "outputs": [
    {
     "data": {
      "text/plain": [
       "2.463317821698227"
      ]
     },
     "execution_count": 6,
     "metadata": {},
     "output_type": "execute_result"
    }
   ],
   "source": [
    "random_number = random.randint(-90, 90) + random.random()\n",
    "random_number"
   ]
  },
  {
   "cell_type": "code",
   "execution_count": 7,
   "id": "c62fd261",
   "metadata": {},
   "outputs": [],
   "source": [
    "x = 1\n",
    "latitudes = []\n",
    "while x < 11:\n",
    "    random_lat = random.randint(-90, 89) + random.random()\n",
    "    latitudes.append(random_lat)\n",
    "    x += 1"
   ]
  },
  {
   "cell_type": "code",
   "execution_count": 8,
   "id": "6a843479",
   "metadata": {},
   "outputs": [
    {
     "data": {
      "text/plain": [
       "[-47.65267232687028,\n",
       " -40.51054216882097,\n",
       " 82.25993572826245,\n",
       " -80.16804042032865,\n",
       " -86.16606879312081,\n",
       " -17.962956288794192,\n",
       " 59.11292615215186,\n",
       " -22.000071374495736,\n",
       " -32.86299591776937,\n",
       " -60.35741506675558]"
      ]
     },
     "execution_count": 8,
     "metadata": {},
     "output_type": "execute_result"
    }
   ],
   "source": [
    "latitudes"
   ]
  },
  {
   "cell_type": "code",
   "execution_count": 12,
   "id": "4e6e900e",
   "metadata": {},
   "outputs": [
    {
     "data": {
      "text/plain": [
       "-89"
      ]
     },
     "execution_count": 12,
     "metadata": {},
     "output_type": "execute_result"
    }
   ],
   "source": [
    "random.randrange(-90, 90, step=1)"
   ]
  },
  {
   "cell_type": "code",
   "execution_count": 13,
   "id": "b823fd22",
   "metadata": {},
   "outputs": [
    {
     "data": {
      "text/plain": [
       "-57"
      ]
     },
     "execution_count": 13,
     "metadata": {},
     "output_type": "execute_result"
    }
   ],
   "source": [
    "random.randrange(-90, 90, step=3)"
   ]
  },
  {
   "cell_type": "code",
   "execution_count": 14,
   "id": "b4b733b7",
   "metadata": {},
   "outputs": [
    {
     "data": {
      "text/plain": [
       "76.0822474520615"
      ]
     },
     "execution_count": 14,
     "metadata": {},
     "output_type": "execute_result"
    }
   ],
   "source": [
    "random.uniform(-90, 90)"
   ]
  },
  {
   "cell_type": "code",
   "execution_count": 15,
   "id": "cd64d6e7",
   "metadata": {},
   "outputs": [],
   "source": [
    "# Import the NumPy module.\n",
    "import numpy as np"
   ]
  },
  {
   "cell_type": "code",
   "execution_count": 17,
   "id": "25c3c721",
   "metadata": {},
   "outputs": [
    {
     "data": {
      "text/plain": [
       "-3.681893421432193"
      ]
     },
     "execution_count": 17,
     "metadata": {},
     "output_type": "execute_result"
    }
   ],
   "source": [
    "np.random.uniform(-90.000, 90.000)"
   ]
  },
  {
   "cell_type": "code",
   "execution_count": 20,
   "id": "100f7d37",
   "metadata": {},
   "outputs": [
    {
     "data": {
      "text/plain": [
       "array([-22.6365407 ,  86.99736017,   1.81609859,  80.90108936,\n",
       "         3.64863611, -47.02770722, -23.38408778, -42.35778692,\n",
       "        16.87801962,  -5.4538172 , -58.70073296,  -9.52722274,\n",
       "       -33.60151677,  79.37283845, -40.14833859, -49.14048925,\n",
       "       -81.18994937, -44.40795545, -17.33634564, -42.96156282,\n",
       "       -47.89922687,   4.0265288 , -23.84272205,   7.49927713,\n",
       "       -28.77117946,  35.84792041,   2.66728398, -87.87260836,\n",
       "        64.78811653,  47.10309835,  31.92732181, -12.21202714,\n",
       "       -70.10397019,  -4.73972915, -33.23216048,  15.4859819 ,\n",
       "       -80.54545245, -53.05108465, -30.892561  ,  49.89963426,\n",
       "        74.17531174,  34.69116191, -69.21627627, -89.14710954,\n",
       "        40.04602944,  -1.74737634,  17.5335183 , -28.16835742,\n",
       "       -30.85537127, -62.49445783])"
      ]
     },
     "execution_count": 20,
     "metadata": {},
     "output_type": "execute_result"
    }
   ],
   "source": [
    "np.random.uniform(-90.000, 90.000, size=50)"
   ]
  },
  {
   "cell_type": "code",
   "execution_count": 21,
   "id": "91849b7a",
   "metadata": {},
   "outputs": [],
   "source": [
    "# Import timeit.\n",
    "import timeit"
   ]
  },
  {
   "cell_type": "code",
   "execution_count": 24,
   "id": "6055e689",
   "metadata": {},
   "outputs": [
    {
     "name": "stdout",
     "output_type": "stream",
     "text": [
      "14.7 µs ± 82.2 ns per loop (mean ± std. dev. of 7 runs, 100000 loops each)\n"
     ]
    }
   ],
   "source": [
    "%timeit np.random.uniform(-90.000, 90.000, size=1500)\n"
   ]
  },
  {
   "cell_type": "code",
   "execution_count": 25,
   "id": "82e84b39",
   "metadata": {},
   "outputs": [
    {
     "name": "stdout",
     "output_type": "stream",
     "text": [
      "2.38 ms ± 68.8 µs per loop (mean ± std. dev. of 7 runs, 100 loops each)\n"
     ]
    }
   ],
   "source": [
    "def latitudes(size):\n",
    "    latitudes = []\n",
    "    x = 0\n",
    "    while x < (size):\n",
    "        random_lat = random.randint(-90, 90) + random.random()\n",
    "        latitudes.append(random_lat)\n",
    "        x += 1\n",
    "    return latitudes\n",
    "# Call the function with 1500.\n",
    "%timeit latitudes(1500)"
   ]
  },
  {
   "cell_type": "code",
   "execution_count": null,
   "id": "cf2f4ccc",
   "metadata": {},
   "outputs": [],
   "source": []
  }
 ],
 "metadata": {
  "kernelspec": {
   "display_name": "PythonData",
   "language": "python",
   "name": "pythondata"
  },
  "language_info": {
   "codemirror_mode": {
    "name": "ipython",
    "version": 3
   },
   "file_extension": ".py",
   "mimetype": "text/x-python",
   "name": "python",
   "nbconvert_exporter": "python",
   "pygments_lexer": "ipython3",
   "version": "3.7.11"
  }
 },
 "nbformat": 4,
 "nbformat_minor": 5
}
